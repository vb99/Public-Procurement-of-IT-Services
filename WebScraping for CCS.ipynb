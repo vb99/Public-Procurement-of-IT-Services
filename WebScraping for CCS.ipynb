{
 "cells": [
  {
   "cell_type": "markdown",
   "metadata": {},
   "source": [
    "# Datamining Program for Procurement\n",
    "\n",
    "The following piece of code acquires a data frame for all procurement contracts related to a single keyword. The first entry makes a function to get all the links for the contracts."
   ]
  },
  {
   "cell_type": "code",
   "execution_count": null,
   "metadata": {},
   "outputs": [],
   "source": [
    "from selenium import webdriver\n",
    "from selenium.webdriver.common.keys import Keys\n",
    "import re\n",
    "\n",
    "driver =  webdriver.Chrome('/Users/vatsalbajaj/Downloads/chromedriver')\n",
    "old_links = []\n",
    "def get_links(num):\n",
    "    try:\n",
    "        website_name = 'https://eprocure.gov.in/cppp/resultoftenders/byJWFieSVic29mdHdhcmVieSVjYnklZHNlbGVjdGJ5JWUyMDE3YnklZlB1Ymxpc2hlZA==/page='\n",
    "        page_num = str(num)\n",
    "        driver.get(website_name + page_num)\n",
    "        table = driver.find_element_by_id('edit-l-result-teners')\n",
    "        tender = table.get_attribute('innerHTML')\n",
    "        semi_links = [m.start() for m in re.finditer('a href=\"/cppp/aocfullview', tender)]\n",
    "        for semilink in semi_links:\n",
    "            old_links.append('https://eprocure.gov.in' + tender[semilink + 8: semilink+38])\n",
    "    except:\n",
    "        captcha_URL = driver.current_url\n",
    "        driver.get(captcha_URL)\n",
    "        captcha_problem = driver.find_element_by_xpath(\"//form/div/fieldset/div/div[2]/span\").text\n",
    "        answer = int(captcha_problem[0:2]) + int(captcha_problem[-4:-2])\n",
    "        inputting_location = driver.find_element_by_xpath(\"//form/div/fieldset/div/div[2]/input\")\n",
    "        inputting_location.send_keys(answer)\n",
    "        driver.find_element_by_xpath(\"//form/div/input\").click()\n",
    "        get_links(num)"
   ]
  },
  {
   "cell_type": "markdown",
   "metadata": {},
   "source": [
    "The next entry makes a list of links and prints them out."
   ]
  },
  {
   "cell_type": "code",
   "execution_count": null,
   "metadata": {},
   "outputs": [],
   "source": [
    "for x in range(1,36):\n",
    "    get_links(x)\n",
    "links = []\n",
    "for elem in old_links:\n",
    "    link = elem.replace('\"', '')\n",
    "    links.append(link)"
   ]
  },
  {
   "cell_type": "markdown",
   "metadata": {},
   "source": [
    "The next entry creates a utility function to manipulate date and time, and it also creates a contract class."
   ]
  },
  {
   "cell_type": "code",
   "execution_count": null,
   "metadata": {},
   "outputs": [],
   "source": [
    "import datetime\n",
    "\n",
    "def convert_date(date):\n",
    "        dt_obj = (datetime.datetime.strptime(date, \"%d-%b-%Y %I:%M %p\"))\n",
    "        unix_time = dt_obj.timestamp()\n",
    "        return unix_time\n",
    "    \n",
    "class Contract():\n",
    "    \n",
    "    def __init__(self, organisation_name, tender_description, tender_type, number_of_bids, name_of_selected_bidder, contract_value, published_date, contract_date, completion_date):\n",
    "        self.organisation_name = organisation_name.text\n",
    "        self.tender = tender_description.text\n",
    "        self.type = tender_type.text\n",
    "        self.number = number_of_bids.text\n",
    "        self.winner = name_of_selected_bidder.text\n",
    "        self.value =  contract_value.text\n",
    "        self.published_date = published_date.text\n",
    "        self.contract_date = contract_date.text\n",
    "        self.completion_date = completion_date.text"
   ]
  },
  {
   "cell_type": "markdown",
   "metadata": {},
   "source": [
    "The next function mines data from every single contract. It saves all the contract objects in a list called information."
   ]
  },
  {
   "cell_type": "code",
   "execution_count": null,
   "metadata": {},
   "outputs": [],
   "source": [
    "from selenium import webdriver\n",
    "from selenium.webdriver.common.keys import Keys\n",
    "import re\n",
    "\n",
    "driver = webdriver.Chrome('/Users/vatsalbajaj/Downloads/chromedriver')\n",
    "information = []\n",
    "def getInfo(link):\n",
    "    try:\n",
    "        str1 = link\n",
    "        driver.get(str1)\n",
    "        organisation_name = driver.find_element_by_xpath(\"//table[@class = 'viewtablebg']/tbody/tr[1]/td[@class = 'td_view_field']\")\n",
    "        tender_description = driver.find_element_by_xpath(\"//table[@class = 'viewtablebg']/tbody/tr[3]/td[@class = 'td_view_field']\")\n",
    "        tender_type = driver.find_element_by_xpath(\"//table[@class = 'viewtablebg']/tbody/tr[5]/td[@class = 'td_view_field']\")\n",
    "        number_of_bids = driver.find_element_by_xpath(\"//table[@class = 'viewtablebg']/tbody/tr[6]/td[@class = 'td_view_field']\")\n",
    "        name_of_selected_bidder = driver.find_element_by_xpath(\"//table[@class = 'viewtablebg']/tbody/tr[7]/td[@class = 'td_view_field']\")\n",
    "        contract_value = driver.find_element_by_xpath(\"//table[@class = 'viewtablebg']/tbody/tr[9]/td[@class = 'td_view_field']\")\n",
    "        published_date = driver.find_element_by_xpath(\"//table[@class = 'viewtablebg']/tbody/tr[10]/td[2]\")\n",
    "        contract_date = driver.find_element_by_xpath(\"//table[@class = 'viewtablebg']/tbody/tr[10]/td[4]\")\n",
    "        completion_date = driver.find_element_by_xpath(\"//table[@class = 'viewtablebg']/tbody/tr[11]/td[2]\")\n",
    "        information.append(Contract(organisation_name, tender_description, tender_type, number_of_bids, name_of_selected_bidder, contract_value, published_date, contract_date, completion_date))\n",
    "    except:\n",
    "        captcha_URL = driver.current_url\n",
    "        driver.get(captcha_URL)\n",
    "        captcha_problem = driver.find_element_by_xpath(\"//form/div/fieldset/div/div[2]/span\").text\n",
    "        answer = int(captcha_problem[0:2]) + int(captcha_problem[-4:-2])\n",
    "        inputting_location = driver.find_element_by_xpath(\"//form/div/fieldset/div/div[2]/input\")\n",
    "        inputting_location.send_keys(answer)\n",
    "        driver.find_element_by_xpath(\"//form/div/input\").click()\n",
    "        getInfo(link)\n",
    "for link in links:\n",
    "    getInfo(link)"
   ]
  },
  {
   "cell_type": "markdown",
   "metadata": {},
   "source": [
    "## Load Libraries"
   ]
  },
  {
   "cell_type": "code",
   "execution_count": null,
   "metadata": {},
   "outputs": [],
   "source": [
    "import pandas as pd\n",
    "import matplotlib.pyplot as plt\n",
    "import datetime as dt"
   ]
  },
  {
   "cell_type": "markdown",
   "metadata": {},
   "source": [
    "Data cleaning process for every variable. First, we clean the tender type column with only the relevant tender types remaining."
   ]
  },
  {
   "cell_type": "code",
   "execution_count": null,
   "metadata": {},
   "outputs": [],
   "source": [
    "tendertype_unique = []\n",
    "for contract in information:\n",
    "    tendertype_unique.append(contract.type)\n",
    "print(list(set(tendertype_unique)))\n",
    "tendertype = []\n",
    "for tender in tendertype_unique:\n",
    "    if tender == '' or tender == 'STE(OEM/OES)-SRM' or tender == '2' or tender == 'Single Tender(Urg-M)' or tender == '1' or tender == 'NA':\n",
    "        tendertype.append(None)\n",
    "    elif tender == 'Limted' or tender == 'LIMITED TENDER-SRM' or tender == 'LIMITED':\n",
    "        tendertype.append('Limited')\n",
    "    else:\n",
    "        tendertype.append(tender)\n",
    "print(list(set(tendertype)))\n",
    "    "
   ]
  },
  {
   "cell_type": "markdown",
   "metadata": {},
   "source": [
    "This function creates a dataframe and exports it."
   ]
  },
  {
   "cell_type": "code",
   "execution_count": null,
   "metadata": {
    "scrolled": true
   },
   "outputs": [],
   "source": [
    "from pandas import DataFrame\n",
    "contracts = []\n",
    "i = 0\n",
    "for contract in information:\n",
    "    if isinstance(contract.type, str) != True:\n",
    "        contract.type = null\n",
    "for contract in information:\n",
    "    contracts.append([contract.organisation_name, contract.tender, tendertype[i]\n",
    "                      , contract.number, contract.winner, contract.value, contract.published_date, \n",
    "                      contract.contract_date,  contract.completion_date])\n",
    "    i += 1\n",
    "\n",
    "    \n"
   ]
  },
  {
   "cell_type": "code",
   "execution_count": null,
   "metadata": {},
   "outputs": [],
   "source": [
    "df = pd.DataFrame(contracts, columns = [\"Organisation name\", \"Tender description\", \"Tender type\", \"Number of bids\", \n",
    "                                     \"Name of selected bidder\", \"Contract value\", \"Published date\", \"Contract date\"\n",
    "                                     , \"Completion date\"])\n",
    "df['Contract date'] = pd.to_datetime(df['Contract date'])  \n",
    "df['Published date'] = pd.to_datetime(df['Published date'])  \n",
    "df['Completion date'] = pd.to_datetime(df['Completion date'])\n",
    "df['Number of bids'] = pd.to_numeric(df['Number of bids'], downcast = 'unsigned')\n",
    "df['Contract value'] = pd.to_numeric(df['Contract value'])\n",
    "df[\"Tender type\"] = df[\"Tender type\"].astype('category')\n",
    "\n",
    "for completiondate in df['Completion date']:\n",
    "    if isinstance(completiondate, dt.datetime) != True:\n",
    "        completiondate = None\n"
   ]
  },
  {
   "cell_type": "code",
   "execution_count": null,
   "metadata": {},
   "outputs": [],
   "source": [
    "df.to_csv(r'/Users/vatsalbajaj/desktop/ccs/Procurement Research/procurement_data.csv')"
   ]
  }
 ],
 "metadata": {
  "kernelspec": {
   "display_name": "Python 3",
   "language": "python",
   "name": "python3"
  },
  "language_info": {
   "codemirror_mode": {
    "name": "ipython",
    "version": 3
   },
   "file_extension": ".py",
   "mimetype": "text/x-python",
   "name": "python",
   "nbconvert_exporter": "python",
   "pygments_lexer": "ipython3",
   "version": "3.6.5"
  }
 },
 "nbformat": 4,
 "nbformat_minor": 2
}
